{
 "cells": [
  {
   "cell_type": "code",
   "execution_count": 1,
   "metadata": {},
   "outputs": [],
   "source": [
    "import pandas as pd\n",
    "import numpy as np\n",
    "import scipy.sparse\n",
    "import csv\n",
    "from sklearn import datasets\n",
    "from sklearn.model_selection import train_test_split # cross validation \n",
    "from sklearn.preprocessing import StandardScaler\n",
    "from sklearn.linear_model import Perceptron\n",
    "from sklearn.metrics import accuracy_score"
   ]
  },
  {
   "cell_type": "code",
   "execution_count": 2,
   "metadata": {},
   "outputs": [
    {
     "name": "stdout",
     "output_type": "stream",
     "text": [
      "(334295, 3800)\n",
      "334295\n"
     ]
    }
   ],
   "source": [
    "# Load the features and the labels from the .npz and .csv files\n",
    "# feats  = training features (sparse matrix)\n",
    "# labels = labels (vector)\n",
    "\n",
    "feats  = scipy.sparse.load_npz('../data/corpus_feature_vectors.npz')\n",
    "labels = []\n",
    "with open('../data/corpus_labels.csv', encoding='utf-8') as csvfile:\n",
    "    readCSV = csv.reader(csvfile, delimiter=',')\n",
    "    for row in readCSV:\n",
    "        labels.append(row[0])\n",
    "\n",
    "print(feats.shape)\n",
    "print(len(labels)) "
   ]
  },
  {
   "cell_type": "code",
   "execution_count": 3,
   "metadata": {},
   "outputs": [],
   "source": [
    "# TODO: reapply cross validation here once a single test works as intended.\n",
    "# 'test_train_split' does the cross validation\n",
    "test_size=0.3\n",
    "\n",
    "feats_train, feats_test, labels_train, labels_test = train_test_split(feats,\n",
    "                                                                     labels,\n",
    "                                                                     test_size=test_size)"
   ]
  },
  {
   "cell_type": "code",
   "execution_count": 5,
   "metadata": {},
   "outputs": [],
   "source": [
    "# Feature standardization can be handled by 'StandardScaler'\n",
    "# Note: We are only going to fit the standard scalar to the \n",
    "#       training set because we won't be able to fit the data\n",
    "#       to the test set when we test. \n",
    "\n",
    "\n",
    "# create the instance\n",
    "sc = StandardScaler(with_mean=False)\n",
    "sc.fit(feats)     # fit to training features\n",
    "\n",
    "# This transforms the training and test sets based off the \n",
    "# scalers that we got from the standardization on training set. \n",
    "feats_train_std = sc.transform(feats_train)\n",
    "feats_test_std = sc.transform(feats_test)\n",
    "feats_transformed  = sc.transform(feats)"
   ]
  },
  {
   "cell_type": "code",
   "execution_count": 7,
   "metadata": {},
   "outputs": [
    {
     "name": "stdout",
     "output_type": "stream",
     "text": [
      "Perceptron: Local current time : Wed Dec  4 14:02:55 2019\n",
      "Ending perceptron: Local current time : Wed Dec  4 14:03:36 2019\n",
      "accuracy for percep: 53.48%\n",
      "accuracy for nc: 53.48%\n"
     ]
    }
   ],
   "source": [
    "import time\n",
    "from sklearn.neighbors import NearestCentroid\n",
    "\n",
    "print (\"Perceptron: Local current time :\", time.asctime( time.localtime(time.time()) ))\n",
    "# Training the model using perceptron\n",
    "n_iter = 5 # 40 iterations of perceptron\n",
    "\n",
    "# create the perceptron instance\n",
    "perceptron = Perceptron(penalty='elasticnet', alpha=0.00008,n_iter_no_change=n_iter, class_weight='balanced')\n",
    "nc = NearestCentroid(metric='euclidean')\n",
    "\n",
    "# fit the model to the standardization data\n",
    "perceptron.fit(feats_transformed, labels)\n",
    "nc.fit(feats_transformed, labels)\n",
    "\n",
    "# make predictions\n",
    "labels_pred = perceptron.predict(feats_test_std)\n",
    "labels_pred2 = nc.predict(feats_test_std)\n",
    "print (\"Ending perceptron: Local current time :\", time.asctime( time.localtime(time.time()) ))\n",
    "\n",
    "print(\"accuracy for percep: {0:.2f}%\".format(accuracy_score(labels_test,labels_pred)*100))\n",
    "print(\"accuracy for nc: {0:.2f}%\".format(accuracy_score(labels_test,labels_pred2)*100))"
   ]
  },
  {
   "cell_type": "code",
   "execution_count": 8,
   "metadata": {},
   "outputs": [
    {
     "name": "stdout",
     "output_type": "stream",
     "text": [
      "accuracy for nc: 58.07%\n"
     ]
    }
   ],
   "source": [
    "print(\"accuracy for nc: {0:.2f}%\".format(accuracy_score(labels_test,labels_pred2)*100))"
   ]
  },
  {
   "cell_type": "code",
   "execution_count": 9,
   "metadata": {},
   "outputs": [
    {
     "name": "stdout",
     "output_type": "stream",
     "text": [
      "Counter({'5': 43250, '4': 17568, '1': 17349, '3': 12661, '2': 9461})\n",
      "Counter({'5': 35079, '4': 25176, '1': 15854, '3': 13066, '2': 11114})\n"
     ]
    }
   ],
   "source": [
    "from collections import Counter\n",
    "print(Counter(labels_pred))\n",
    "print(Counter(labels_pred2))"
   ]
  },
  {
   "cell_type": "code",
   "execution_count": 10,
   "metadata": {},
   "outputs": [],
   "source": [
    "import pickle\n",
    "fileObject = open(\"pickled_perceptron\", 'wb')\n",
    "pickle.dump(perceptron, fileObject)\n",
    "fileObject.close()\n",
    "\n",
    "fileObject = open(\"pickled_nearest_centroid\", 'wb')\n",
    "pickle.dump(nc, fileObject)\n",
    "fileObject.close()"
   ]
  }
 ],
 "metadata": {
  "kernelspec": {
   "display_name": "Python 3",
   "language": "python",
   "name": "python3"
  },
  "language_info": {
   "codemirror_mode": {
    "name": "ipython",
    "version": 3
   },
   "file_extension": ".py",
   "mimetype": "text/x-python",
   "name": "python",
   "nbconvert_exporter": "python",
   "pygments_lexer": "ipython3",
   "version": "3.7.1"
  }
 },
 "nbformat": 4,
 "nbformat_minor": 2
}
