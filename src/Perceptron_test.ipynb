{
 "cells": [
  {
   "cell_type": "code",
   "execution_count": 7,
   "metadata": {},
   "outputs": [],
   "source": [
    "import numpy as np\n",
    "from sklearn import datasets\n",
    "from sklearn.model_selection import train_test_split # cross validation \n",
    "from sklearn.preprocessing import StandardScaler\n",
    "from sklearn.linear_model import Perceptron\n",
    "from sklearn.metrics import accuracy_score\n"
   ]
  },
  {
   "cell_type": "code",
   "execution_count": 10,
   "metadata": {},
   "outputs": [],
   "source": [
    "# Since the official dataset isn't ready yet, using sklearn's provided\n",
    "# dataset for testing iris, and splitting the features and the labels.\n",
    "# X = training features\n",
    "# y = labels\n",
    "iris = datasets.load_iris()\n",
    "X = iris.data\n",
    "y = iris.target"
   ]
  },
  {
   "cell_type": "code",
   "execution_count": 11,
   "metadata": {},
   "outputs": [],
   "source": [
    "# 'test_train_split' does the cross validation. \n",
    "test_size=0.3    # percentage of data that will be the dev set\n",
    "random_state=0   # makes results reproducable. \n",
    "\n",
    "# return values X_train, X_test, y_train, and y_test produced\n",
    "X_train, X_test, y_train, y_test = train_test_split(X, y, test_size=test_size,\n",
    "                                                   random_state=random_state)"
   ]
  },
  {
   "cell_type": "code",
   "execution_count": 14,
   "metadata": {},
   "outputs": [
    {
     "name": "stdout",
     "output_type": "stream",
     "text": [
      "Unique labels: [0 1 2]\n"
     ]
    }
   ],
   "source": [
    "# Feature standardization can be handled by 'StandardScaler'\n",
    "# Note: We are only going to fit the standard scalar to the \n",
    "#       training set because we won't be able to fit the data\n",
    "#       to the test set when we test. \n",
    "\n",
    "\n",
    "# create the instance\n",
    "sc = StandardScaler()\n",
    "sc.fit(X_train)     # fit to training features\n",
    "\n",
    "# This transforms the training and test sets based off the \n",
    "# scalers that we got from the standardization on training set. \n",
    "X_train_std = sc.transform(X_train)\n",
    "X_test_std = sc.transform(X_test)"
   ]
  },
  {
   "cell_type": "code",
   "execution_count": 15,
   "metadata": {},
   "outputs": [],
   "source": [
    "# Preprocessing and feature extraction\n",
    "# What's here is a temporary one that I grabbed from online\n",
    "# to test the perceptron algorithm.\n",
    "\n",
    "# In this example, features 2 and 3 are chosen to look at.\n",
    "X_train_std = X_train_std[:, [2,3]]\n",
    "X_test_std = X_test_std[:,[2,3]]"
   ]
  },
  {
   "cell_type": "code",
   "execution_count": 23,
   "metadata": {},
   "outputs": [],
   "source": [
    "# Training the model using perceptron\n",
    "n_iter = 40 # 40 iterations of perceptron\n",
    "eta0=0.1    # learning rate of our implementation\n",
    "\n",
    "# create the perceptron instance\n",
    "perceptron = Perceptron(n_iter_no_change=n_iter, eta0=eta0, random_state=random_state)\n",
    "\n",
    "# fit the model to the standardization data\n",
    "perceptron.fit(X_train_std, y_train)\n",
    "\n",
    "# make predictions\n",
    "y_pred = perceptron.predict(X_test_std)"
   ]
  },
  {
   "cell_type": "code",
   "execution_count": 24,
   "metadata": {},
   "outputs": [
    {
     "name": "stdout",
     "output_type": "stream",
     "text": [
      "accuracy: 91.11%\n"
     ]
    }
   ],
   "source": [
    "print(\"accuracy: {0:.2f}%\".format(accuracy_score(y_test,y_pred)*100))"
   ]
  },
  {
   "cell_type": "code",
   "execution_count": null,
   "metadata": {},
   "outputs": [],
   "source": []
  }
 ],
 "metadata": {
  "kernelspec": {
   "display_name": "Python 3",
   "language": "python",
   "name": "python3"
  },
  "language_info": {
   "codemirror_mode": {
    "name": "ipython",
    "version": 3
   },
   "file_extension": ".py",
   "mimetype": "text/x-python",
   "name": "python",
   "nbconvert_exporter": "python",
   "pygments_lexer": "ipython3",
   "version": "3.6.9"
  }
 },
 "nbformat": 4,
 "nbformat_minor": 2
}
