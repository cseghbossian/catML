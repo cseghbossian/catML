{
 "cells": [
  {
   "cell_type": "code",
   "execution_count": 3,
   "metadata": {},
   "outputs": [],
   "source": [
    "import pandas as pd\n",
    "import numpy as np\n",
    "import scipy.sparse\n",
    "from sklearn import svm\n",
    "from sklearn import datasets\n",
    "from sklearn.model_selection import train_test_split # cross validation \n",
    "from sklearn.preprocessing import StandardScaler\n",
    "from sklearn.linear_model import Perceptron\n",
    "from sklearn.metrics import accuracy_score\n",
    "import time;"
   ]
  },
  {
   "cell_type": "code",
   "execution_count": 4,
   "metadata": {},
   "outputs": [
    {
     "name": "stdout",
     "output_type": "stream",
     "text": [
      "334294\n",
      "334295\n"
     ]
    }
   ],
   "source": [
    "# Load the features and the labels from the .npz and .csv files\n",
    "# feats  = training features (sparse matrix)\n",
    "# labels = labels (vector)\n",
    "feats  = scipy.sparse.load_npz('../data/corpus_feature_vectors.npz')\n",
    "labels = pd.read_csv('../data/corpus_labels.csv')\n",
    "print(len(labels)) # There's an oopsies here. For some reason the length\n",
    "                   # Is one less than it should be\n",
    "    \n",
    "# I'm adding this here just so I can go ahead with testing, but this\n",
    "# is something that I need to ask.\n",
    "labels = labels.append(pd.DataFrame([1],columns=['1']),ignore_index=True)\n",
    "print(len(labels))"
   ]
  },
  {
   "cell_type": "code",
   "execution_count": 5,
   "metadata": {},
   "outputs": [],
   "source": [
    "# 'test_train_split' does the cross validation\n",
    "test_size=0.3\n",
    "\n",
    "feats_train, feats_test, labels_train, labels_test = train_test_split(feats,\n",
    "                                                                     labels,\n",
    "                                                                     test_size=test_size)"
   ]
  },
  {
   "cell_type": "code",
   "execution_count": 6,
   "metadata": {},
   "outputs": [],
   "source": [
    "# Feature standardization can be handled by 'StandardScaler'\n",
    "# Note: We are only going to fit the standard scalar to the \n",
    "#       training set because we won't be able to fit the data\n",
    "#       to the test set when we test. \n",
    "\n",
    "\n",
    "# create the instance\n",
    "sc = StandardScaler(with_mean=False)\n",
    "sc.fit(feats_train)     # fit to training features\n",
    "\n",
    "# This transforms the training and test sets based off the \n",
    "# scalers that we got from the standardization on training set. \n",
    "feats_train_std = sc.transform(feats_train)\n",
    "feats_test_std = sc.transform(feats_test)"
   ]
  },
  {
   "cell_type": "code",
   "execution_count": null,
   "metadata": {},
   "outputs": [
    {
     "name": "stderr",
     "output_type": "stream",
     "text": [
      "/home/aa/.local/lib/python3.6/site-packages/sklearn/utils/validation.py:724: DataConversionWarning: A column-vector y was passed when a 1d array was expected. Please change the shape of y to (n_samples, ), for example using ravel().\n",
      "  y = column_or_1d(y, warn=True)\n"
     ]
    }
   ],
   "source": [
    "\n",
    "# Training the model using perceptron\n",
    "n_iter = 40 # 40 iterations of perceptron\n",
    "\n",
    "model = svm.SVC(kernel='linear')\n",
    "model.fit(feats_train_std, labels_train)\n",
    "\n",
    "\n",
    "print (\"Ending SVM: Local current time :\", time.asctime( time.localtime(time.time()) ))\n",
    "\n"
   ]
  },
  {
   "cell_type": "code",
   "execution_count": null,
   "metadata": {},
   "outputs": [],
   "source": [
    "model = svm.SVC(kernel='linear')\n",
    "model.fit(X_train_std, y_train)\n",
    "\n",
    "y_pred = model.predict(X_test_std)\n",
    "print(\"accuracy: {0:.2f}%\".format(accuracy_score(y_test,y_pred)*100))"
   ]
  },
  {
   "cell_type": "code",
   "execution_count": null,
   "metadata": {},
   "outputs": [],
   "source": []
  },
  {
   "cell_type": "code",
   "execution_count": null,
   "metadata": {},
   "outputs": [],
   "source": []
  }
 ],
 "metadata": {
  "kernelspec": {
   "display_name": "Python 3",
   "language": "python",
   "name": "python3"
  },
  "language_info": {
   "codemirror_mode": {
    "name": "ipython",
    "version": 3
   },
   "file_extension": ".py",
   "mimetype": "text/x-python",
   "name": "python",
   "nbconvert_exporter": "python",
   "pygments_lexer": "ipython3",
   "version": "3.6.9"
  }
 },
 "nbformat": 4,
 "nbformat_minor": 2
}
