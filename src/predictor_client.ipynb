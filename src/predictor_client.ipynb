{
 "cells": [
  {
   "cell_type": "code",
   "execution_count": null,
   "metadata": {},
   "outputs": [],
   "source": [
    "import import pandas as pd\n",
    "from sklearn.feature_extraction.text import TfidfVectorizer\n",
    "from nltk.stem import PorterStemmer\n",
    "from nltk.tokenize import sent_tokenize, word_tokenize\n",
    "import nltk as nltk\n",
    "import numpy as np \n",
    "import time;\n"
   ]
  },
  {
   "cell_type": "code",
   "execution_count": null,
   "metadata": {},
   "outputs": [],
   "source": [
    "result = pd.read_json('../data/data_test.json')\n",
    "\n",
    "# Collecting all the text reviews into a list called corpus. For now, our features will be from the text using sklearn's \n",
    "# packages, could add the useful, funny attributes later to see if improves\n",
    "corpus = []\n",
    "for index, row in result.iterrows():\n",
    "    corpus.append(row['text'])"
   ]
  },
  {
   "cell_type": "code",
   "execution_count": null,
   "metadata": {},
   "outputs": [],
   "source": [
    "ps = PorterStemmer()\n",
    "test_stemmed = []\n",
    "for text in corpus:\n",
    "    words = word_tokenize(text)\n",
    "    new_text = \"\"\n",
    "    for word in words:\n",
    "        stemmed = ps.stem(word)\n",
    "        new_text = new_text + \" \" + stemmed\n",
    "    test_stemmed.append(new_text)"
   ]
  },
  {
   "cell_type": "code",
   "execution_count": null,
   "metadata": {},
   "outputs": [],
   "source": [
    "#unload pickled vectorizer with prelearned features from training set\n",
    "feature_vector = vectorizer.transform(test_stemmed)"
   ]
  },
  {
   "cell_type": "code",
   "execution_count": null,
   "metadata": {},
   "outputs": [],
   "source": [
    "import scipy.sparse\n",
    "scipy.sparse.save_npz('../data/test_feature_vectors.npz', feature_vector)"
   ]
  },
  {
   "cell_type": "code",
   "execution_count": null,
   "metadata": {},
   "outputs": [],
   "source": [
    "labels = []\n",
    "testset = scipy.sparse.load_npz('../data/corpus_feature_vectors.npz') #just incase transform takes a while\n",
    "# unload pickled learned models LR (e.g. clf3), SVM, adaBoost of LR, adaBoost of SVM\n",
    "labels.append(clf3.predict(testset)) #pickles"
   ]
  },
  {
   "cell_type": "code",
   "execution_count": null,
   "metadata": {},
   "outputs": [],
   "source": [
    "# voting/ensemble method\n",
    "\n",
    "final_predictions = [] # then, write to a csv for final predictions"
   ]
  }
 ],
 "metadata": {
  "kernelspec": {
   "display_name": "Python 3",
   "language": "python",
   "name": "python3"
  },
  "language_info": {
   "codemirror_mode": {
    "name": "ipython",
    "version": 3
   },
   "file_extension": ".py",
   "mimetype": "text/x-python",
   "name": "python",
   "nbconvert_exporter": "python",
   "pygments_lexer": "ipython3",
   "version": "3.7.1"
  }
 },
 "nbformat": 4,
 "nbformat_minor": 2
}
