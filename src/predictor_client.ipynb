{
 "cells": [
  {
   "cell_type": "code",
   "execution_count": 6,
   "metadata": {},
   "outputs": [],
   "source": [
    "# Summary:\n",
    "# When run, predictor_client reads in a csv testset file from the command line.\n",
    "# The test set are yelp reviews, and using trained LR, Perceptron, Nearest_Centroid, SVM\n",
    "# models, will make a prediction of what star rating the user gave their review. \n",
    "\n",
    "# This implementation focuses around the text of the reviews.\n",
    "# The text is stemmed and then normalized based on the training set. \n",
    "# Trained LR, Perceptron, Nearest_Centroid, SVM models are then used to predict results\n",
    "# and the final result is decided through ensemble voting. "
   ]
  },
  {
   "cell_type": "code",
   "execution_count": 7,
   "metadata": {},
   "outputs": [],
   "source": [
    "import pandas as pd\n",
    "import nltk as nltk\n",
    "import numpy as np \n",
    "import pickle\n",
    "import csv\n",
    "import time;\n",
    "import scipy.sparse\n",
    "from sklearn.feature_extraction.text import TfidfVectorizer\n",
    "from nltk.stem import PorterStemmer\n",
    "from nltk.tokenize import sent_tokenize, word_tokenize"
   ]
  },
  {
   "cell_type": "code",
   "execution_count": 8,
   "metadata": {},
   "outputs": [],
   "source": [
    "# Read test data from json file passed through command line. \n",
    "# Text is collected and stored in corpus. \n",
    "# Variables: \n",
    "#     Results = the read json file\n",
    "#     Corpus  = a list of text from the reviews\n",
    "result = pd.read_json('../data/data_test_wo_label.json')\n",
    "corpus = []\n",
    "for index, row in result.iterrows():\n",
    "    corpus.append(row['text'])"
   ]
  },
  {
   "cell_type": "code",
   "execution_count": 9,
   "metadata": {},
   "outputs": [],
   "source": [
    "# Data preprocessing: \n",
    "# Take list of strings represending test text, and convert words to a \n",
    "# stemmed version of that word (i.e. run, running runs -> run\n",
    "#     test_stemmed = list of stemmed test review text\n",
    "ps = PorterStemmer()\n",
    "test_stemmed = []\n",
    "for text in corpus:\n",
    "    words = word_tokenize(text)\n",
    "    new_text = \"\"\n",
    "    for word in words:\n",
    "        stemmed = ps.stem(word)\n",
    "        new_text = new_text + \" \" + stemmed\n",
    "    test_stemmed.append(new_text)"
   ]
  },
  {
   "cell_type": "code",
   "execution_count": 10,
   "metadata": {},
   "outputs": [],
   "source": [
    "# Unload pickled vectorized with prelearned exgtracted features from training.\n",
    "# Load the object from that file into vectorizer\n",
    "fileObject = open(\"pickled_feature_vectorizer\",'rb')\n",
    "vectorizer = pickle.load(fileObject)  \n",
    "fileObject.close()\n",
    "\n",
    "# Transform test text data based on extracted features\n",
    "feature_vector = vectorizer.transform(test_stemmed)"
   ]
  },
  {
   "cell_type": "code",
   "execution_count": 11,
   "metadata": {},
   "outputs": [],
   "source": [
    "# Normalize test feature vectors\n",
    "# normalized_feature_vector = tranformed feature vector\n",
    "from sklearn.preprocessing import StandardScaler\n",
    "sc = StandardScaler(with_mean=False)\n",
    "sc.fit(feature_vector)\n",
    "normalized_feature_vector = sc.transform(feature_vector)  "
   ]
  },
  {
   "cell_type": "code",
   "execution_count": 12,
   "metadata": {},
   "outputs": [],
   "source": [
    "testset = normalized_feature_vector\n",
    "# unload pickled learned models LR, Perceptron, Nearest_Centroid, SVM\n",
    "fileObject = open(\"pickled_logistic_regression_model\",'rb')\n",
    "log_reg = pickle.load(fileObject)\n",
    "fileObject.close()\n",
    "\n",
    "fileObject = open(\"pickled_perceptron\",'rb')\n",
    "perceptron = pickle.load(fileObject)\n",
    "fileObject.close()\n",
    "\n",
    "fileObject = open(\"pickled_nearest_centroid\",'rb')\n",
    "nc = pickle.load(fileObject)\n",
    "fileObject.close()\n",
    "\n",
    "fileObject = open(\"pickled_svm\", 'rb')\n",
    "svm = pickle.load(fileObject)\n",
    "fileObject.close()\n",
    "\n",
    "# Make predictions of each model using the testset\n",
    "predictions_LR = log_reg.predict(testset)\n",
    "predictions_p = perceptron.predict(testset)\n",
    "predictions_nc = nc.predict(testset)\n",
    "predictions_svm = svm.predict(testset)\n",
    "\n",
    "# Append the predictions into labels\n",
    "# labels = list of predictions from all models\n",
    "labels = []\n",
    "labels.append(predictions_LR)\n",
    "labels.append(predictions_p)\n",
    "labels.append(predictions_nc)\n",
    "labels.append(predictions_svm)"
   ]
  },
  {
   "cell_type": "code",
   "execution_count": 15,
   "metadata": {
    "scrolled": true
   },
   "outputs": [],
   "source": [
    "# voting/ensemble method\n",
    "# Vote on the final prediction using the results predicted by all models,\n",
    "# then write the final predictions into a csv file.\n",
    "# final_prediction = list of final predictions\n",
    "final_predictions = []\n",
    "for instance in range(labels[0].size):\n",
    "    count1 = 0\n",
    "    count2 = 0\n",
    "    count3 = 0\n",
    "    count4 = 0\n",
    "    count5 = 0\n",
    "    \n",
    "    # Increase count if model predicts its label\n",
    "    for model in range(4):\n",
    "        vote = labels[model].item(instance)\n",
    "        if(vote == '1'):\n",
    "            count1 = count1+1\n",
    "        if(vote == '2'):\n",
    "            count2 = count2+1\n",
    "        if(vote == '3'):\n",
    "            count3 = count3+1\n",
    "        if(vote == '4'):\n",
    "            count4 = count4+1\n",
    "        if(vote == '5'):\n",
    "            count5 = count5+1\n",
    "\n",
    "    # Find the winner. If there is a tie, select the first result. \n",
    "    # Then append the winner to final_prediction\n",
    "    votes = [count1, count2, count3, count4, count5]\n",
    "    winner_index = 0\n",
    "    for v in range(len(votes)):\n",
    "        if(votes[v] > votes[winner_index]):\n",
    "            winner_index = v\n",
    "    final_predictions.append(float(winner_index+1))"
   ]
  },
  {
   "cell_type": "code",
   "execution_count": 16,
   "metadata": {},
   "outputs": [],
   "source": [
    "# Write the final_predictions into predictions.csv\n",
    "with open('../data/predictions.csv', 'w', newline='') as file:\n",
    "    writer = csv.writer(file)\n",
    "    writer.writerow([\"Predictions\"])\n",
    "    for p in final_predictions:\n",
    "        writer.writerow([p])"
   ]
  }
 ],
 "metadata": {
  "kernelspec": {
   "display_name": "Python 3",
   "language": "python",
   "name": "python3"
  },
  "language_info": {
   "codemirror_mode": {
    "name": "ipython",
    "version": 3
   },
   "file_extension": ".py",
   "mimetype": "text/x-python",
   "name": "python",
   "nbconvert_exporter": "python",
   "pygments_lexer": "ipython3",
   "version": "3.7.1"
  }
 },
 "nbformat": 4,
 "nbformat_minor": 2
}
