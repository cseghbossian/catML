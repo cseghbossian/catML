{
 "cells": [
  {
   "cell_type": "markdown",
   "metadata": {},
   "source": [
    "#   Make sure to download the data_test_wo_label.json file from \n",
    "#      the CSE 142 website into the ./data folder in order for this \n",
    "#      code to run properly\n",
    "\n",
    "#   Also, if you pulled this version you should have a pickled_feature_vectorizer\n",
    "#      in your ./src folder"
   ]
  },
  {
   "cell_type": "code",
   "execution_count": 1,
   "metadata": {},
   "outputs": [],
   "source": [
    "import pandas as pd\n",
    "from sklearn.feature_extraction.text import TfidfVectorizer\n",
    "from nltk.stem import PorterStemmer\n",
    "from nltk.tokenize import sent_tokenize, word_tokenize\n",
    "import nltk as nltk\n",
    "import numpy as np \n",
    "import time;\n"
   ]
  },
  {
   "cell_type": "code",
   "execution_count": 2,
   "metadata": {},
   "outputs": [
    {
     "name": "stdout",
     "output_type": "stream",
     "text": [
      "50000\n"
     ]
    }
   ],
   "source": [
    "result = pd.read_json('../data/data_test_wo_label.json')\n",
    "\n",
    "# Collecting all the text reviews into a list called corpus. For now, our features will be from the text using sklearn's \n",
    "# packages, could add the useful, funny attributes later to see if improves\n",
    "corpus = []\n",
    "for index, row in result.iterrows():\n",
    "    corpus.append(row['text'])\n",
    "print(len(corpus)) # quick check"
   ]
  },
  {
   "cell_type": "code",
   "execution_count": 3,
   "metadata": {},
   "outputs": [],
   "source": [
    "ps = PorterStemmer()\n",
    "test_stemmed = []\n",
    "for text in corpus:\n",
    "    words = word_tokenize(text)\n",
    "    new_text = \"\"\n",
    "    for word in words:\n",
    "        stemmed = ps.stem(word)\n",
    "        new_text = new_text + \" \" + stemmed\n",
    "    test_stemmed.append(new_text)"
   ]
  },
  {
   "cell_type": "code",
   "execution_count": 5,
   "metadata": {},
   "outputs": [
    {
     "name": "stdout",
     "output_type": "stream",
     "text": [
      "50000\n"
     ]
    }
   ],
   "source": [
    "import csv\n",
    "#   A quick insert so the stemming can be done and ready to go without\n",
    "#   rerunning the previous cell\n",
    "row_list = []\n",
    "for each in test_stemmed: #each row consists of one column which is the stemmed text\n",
    "    text = []\n",
    "    text.append(each)\n",
    "    row_list.append(text)\n",
    "print(len(row_list)) # quick check, needs to be 50000\n",
    "with open('../data/data_test_wo_labels_stemmed.csv', 'w', newline='', encoding='utf-8') as file:\n",
    "    writer = csv.writer(file)\n",
    "    writer.writerows(row_list)"
   ]
  },
  {
   "cell_type": "code",
   "execution_count": 7,
   "metadata": {},
   "outputs": [],
   "source": [
    "#   A quick insert so the stemming can be done and ready to go without\n",
    "#   rerunning the previous cell\n",
    "#   START HERE\n",
    "test_stemmed = []\n",
    "with open('../data/data_test_wo_labels_stemmed.csv', encoding='utf-8') as csvfile:\n",
    "    readCSV = csv.reader(csvfile, delimiter=',')\n",
    "    for row in readCSV:\n",
    "        test_stemmed.append(row[0])"
   ]
  },
  {
   "cell_type": "code",
   "execution_count": 13,
   "metadata": {},
   "outputs": [],
   "source": [
    "import pickle\n",
    "#unload pickled vectorizer with prelearned features from training set\n",
    "fileObject = open(\"pickled_feature_vectorizer\",'rb')  \n",
    "# load the object from the file into var b\n",
    "vectorizer = pickle.load(fileObject)  \n",
    "# print(len(vectorizer.get_feature_names()))\n",
    "feature_vector = vectorizer.transform(test_stemmed)"
   ]
  },
  {
   "cell_type": "code",
   "execution_count": 14,
   "metadata": {},
   "outputs": [],
   "source": [
    "import scipy.sparse\n",
    "scipy.sparse.save_npz('../data/data_test_wo_labels_feature_vectors.npz', feature_vector)"
   ]
  },
  {
   "cell_type": "code",
   "execution_count": null,
   "metadata": {},
   "outputs": [],
   "source": [
    "import scipy.sparse\n",
    "import time;"
   ]
  },
  {
   "cell_type": "code",
   "execution_count": null,
   "metadata": {},
   "outputs": [],
   "source": [
    "labels = []\n",
    "testset = scipy.sparse.load_npz('../data/data_test_wo_labels_feature_vectors.npz') #just incase transform takes a while\n",
    "# unload pickled learned models LR (e.g. clf3), SVM, adaBoost of LR, adaBoost of SVM\n",
    "labels.append(clf3.predict(testset)) #pickles"
   ]
  },
  {
   "cell_type": "code",
   "execution_count": null,
   "metadata": {},
   "outputs": [],
   "source": [
    "# voting/ensemble method\n",
    "\n",
    "final_predictions = [] # then, write to a csv for final predictions"
   ]
  }
 ],
 "metadata": {
  "kernelspec": {
   "display_name": "Python 3",
   "language": "python",
   "name": "python3"
  },
  "language_info": {
   "codemirror_mode": {
    "name": "ipython",
    "version": 3
   },
   "file_extension": ".py",
   "mimetype": "text/x-python",
   "name": "python",
   "nbconvert_exporter": "python",
   "pygments_lexer": "ipython3",
   "version": "3.7.1"
  }
 },
 "nbformat": 4,
 "nbformat_minor": 2
}
