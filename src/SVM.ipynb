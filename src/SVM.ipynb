{
 "cells": [
  {
   "cell_type": "code",
   "execution_count": null,
   "metadata": {},
   "outputs": [],
   "source": [
    "import pandas as pd\n",
    "import numpy as np\n",
    "import scipy.sparse\n",
    "from sklearn import svm\n",
    "from sklearn import datasets\n",
    "from sklearn.model_selection import train_test_split # cross validation \n",
    "from sklearn.preprocessing import StandardScaler\n",
    "from sklearn.linear_model import Perceptron\n",
    "from sklearn.metrics import accuracy_score"
   ]
  },
  {
   "cell_type": "code",
   "execution_count": null,
   "metadata": {},
   "outputs": [],
   "source": [
    "# Load the features and the labels from the .npz and .csv files\n",
    "# feats  = training features (sparse matrix)\n",
    "# labels = labels (vector)\n",
    "\n",
    "feats  = scipy.sparse.load_npz('../data/corpus_feature_vectors.npz')\n",
    "labels = []\n",
    "with open('../data/corpus_labels.csv', encoding='utf-8') as csvfile:\n",
    "    readCSV = csv.reader(csvfile, delimiter=',')\n",
    "    for row in readCSV:\n",
    "        labels.append(row[0])\n",
    "\n",
    "print(feats.shape)\n",
    "print(len(labels)) "
   ]
  },
  {
   "cell_type": "code",
   "execution_count": null,
   "metadata": {},
   "outputs": [],
   "source": [
    "# 'test_train_split' does the cross validation\n",
    "test_size=0.3\n",
    "\n",
    "feats_train, feats_test, labels_train, labels_test = train_test_split(feats,\n",
    "                                                                     labels,\n",
    "                                                                     test_size=test_size)"
   ]
  },
  {
   "cell_type": "code",
   "execution_count": null,
   "metadata": {},
   "outputs": [],
   "source": [
    "# Feature standardization can be handled by 'StandardScaler'\n",
    "# Note: We are only going to fit the standard scalar to the \n",
    "#       training set because we won't be able to fit the data\n",
    "#       to the test set when we test. \n",
    "\n",
    "\n",
    "# create the instance\n",
    "sc = StandardScaler(with_mean=False)\n",
    "sc.fit(feats_train)     # fit to training features\n",
    "\n",
    "# This transforms the training and test sets based off the \n",
    "# scalers that we got from the standardization on training set. \n",
    "feats_train_std = sc.transform(feats_train)\n",
    "feats_test_std = sc.transform(feats_test)"
   ]
  },
  {
   "cell_type": "code",
   "execution_count": null,
   "metadata": {},
   "outputs": [],
   "source": [
    "model = svm.SVC(kernel='linear')\n",
    "model.fit(feats_train_std, labels_train)\n",
    "\n",
    "y_pred = model.predict(X_test_std)\n",
    "print(\"accuracy: {0:.2f}%\".format(accuracy_score(y_test,y_pred)*100))"
   ]
  }
 ],
 "metadata": {
  "kernelspec": {
   "display_name": "Python 3",
   "language": "python",
   "name": "python3"
  },
  "language_info": {
   "codemirror_mode": {
    "name": "ipython",
    "version": 3
   },
   "file_extension": ".py",
   "mimetype": "text/x-python",
   "name": "python",
   "nbconvert_exporter": "python",
   "pygments_lexer": "ipython3",
   "version": "3.7.1"
  }
 },
 "nbformat": 4,
 "nbformat_minor": 2
}
