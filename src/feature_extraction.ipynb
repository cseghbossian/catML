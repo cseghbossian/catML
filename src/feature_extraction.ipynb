{
 "cells": [
  {
   "cell_type": "markdown",
   "metadata": {},
   "source": [
    "### here is a file for any code related to feature extraction :) \n",
    "### and remember, you are capable of many great things!"
   ]
  },
  {
   "cell_type": "code",
   "execution_count": 28,
   "metadata": {},
   "outputs": [],
   "source": [
    "# Import all libraries here\n",
    "\n",
    "import pandas as pd\n",
    "import matplotlib.pyplot as plt\n",
    "from sklearn.feature_extraction.text import TfidfVectorizer\n"
   ]
  },
  {
   "cell_type": "code",
   "execution_count": 2,
   "metadata": {
    "collapsed": true
   },
   "outputs": [
    {
     "data": {
      "text/html": [
       "<div>\n",
       "<style scoped>\n",
       "    .dataframe tbody tr th:only-of-type {\n",
       "        vertical-align: middle;\n",
       "    }\n",
       "\n",
       "    .dataframe tbody tr th {\n",
       "        vertical-align: top;\n",
       "    }\n",
       "\n",
       "    .dataframe thead th {\n",
       "        text-align: right;\n",
       "    }\n",
       "</style>\n",
       "<table border=\"1\" class=\"dataframe\">\n",
       "  <thead>\n",
       "    <tr style=\"text-align: right;\">\n",
       "      <th></th>\n",
       "      <th>stars</th>\n",
       "      <th>useful</th>\n",
       "      <th>funny</th>\n",
       "      <th>cool</th>\n",
       "      <th>text</th>\n",
       "      <th>date</th>\n",
       "    </tr>\n",
       "  </thead>\n",
       "  <tbody>\n",
       "    <tr>\n",
       "      <th>0</th>\n",
       "      <td>1</td>\n",
       "      <td>6</td>\n",
       "      <td>1</td>\n",
       "      <td>0</td>\n",
       "      <td>Total bill for this horrible service? Over $8G...</td>\n",
       "      <td>2013-05-07 04:34:36</td>\n",
       "    </tr>\n",
       "    <tr>\n",
       "      <th>1</th>\n",
       "      <td>5</td>\n",
       "      <td>0</td>\n",
       "      <td>0</td>\n",
       "      <td>0</td>\n",
       "      <td>I *adore* Travis at the Hard Rock's new Kelly ...</td>\n",
       "      <td>2017-01-14 21:30:33</td>\n",
       "    </tr>\n",
       "    <tr>\n",
       "      <th>2</th>\n",
       "      <td>5</td>\n",
       "      <td>3</td>\n",
       "      <td>0</td>\n",
       "      <td>0</td>\n",
       "      <td>I have to say that this office really has it t...</td>\n",
       "      <td>2016-11-09 20:09:03</td>\n",
       "    </tr>\n",
       "    <tr>\n",
       "      <th>3</th>\n",
       "      <td>5</td>\n",
       "      <td>0</td>\n",
       "      <td>0</td>\n",
       "      <td>0</td>\n",
       "      <td>Went in for a lunch. Steak sandwich was delici...</td>\n",
       "      <td>2018-01-09 20:56:38</td>\n",
       "    </tr>\n",
       "    <tr>\n",
       "      <th>4</th>\n",
       "      <td>1</td>\n",
       "      <td>7</td>\n",
       "      <td>0</td>\n",
       "      <td>0</td>\n",
       "      <td>Today was my second out of three sessions I ha...</td>\n",
       "      <td>2018-01-30 23:07:38</td>\n",
       "    </tr>\n",
       "    <tr>\n",
       "      <th>...</th>\n",
       "      <td>...</td>\n",
       "      <td>...</td>\n",
       "      <td>...</td>\n",
       "      <td>...</td>\n",
       "      <td>...</td>\n",
       "      <td>...</td>\n",
       "    </tr>\n",
       "    <tr>\n",
       "      <th>334290</th>\n",
       "      <td>5</td>\n",
       "      <td>1</td>\n",
       "      <td>1</td>\n",
       "      <td>1</td>\n",
       "      <td>I was very surprised by how flavorful the food...</td>\n",
       "      <td>2016-07-31 07:40:05</td>\n",
       "    </tr>\n",
       "    <tr>\n",
       "      <th>334291</th>\n",
       "      <td>3</td>\n",
       "      <td>1</td>\n",
       "      <td>0</td>\n",
       "      <td>1</td>\n",
       "      <td>The theater is nice, very comfortable chairs a...</td>\n",
       "      <td>2014-03-25 14:48:09</td>\n",
       "    </tr>\n",
       "    <tr>\n",
       "      <th>334292</th>\n",
       "      <td>5</td>\n",
       "      <td>1</td>\n",
       "      <td>1</td>\n",
       "      <td>1</td>\n",
       "      <td>My dog just loves it and so do I. I have broug...</td>\n",
       "      <td>2018-03-23 02:24:21</td>\n",
       "    </tr>\n",
       "    <tr>\n",
       "      <th>334293</th>\n",
       "      <td>1</td>\n",
       "      <td>3</td>\n",
       "      <td>3</td>\n",
       "      <td>1</td>\n",
       "      <td>Bug in food, followed by terrible handling of ...</td>\n",
       "      <td>2012-11-17 01:49:15</td>\n",
       "    </tr>\n",
       "    <tr>\n",
       "      <th>334294</th>\n",
       "      <td>2</td>\n",
       "      <td>6</td>\n",
       "      <td>0</td>\n",
       "      <td>1</td>\n",
       "      <td>I gotta give it to Tropicana, they are not goi...</td>\n",
       "      <td>2013-03-08 00:12:55</td>\n",
       "    </tr>\n",
       "  </tbody>\n",
       "</table>\n",
       "<p>334295 rows × 6 columns</p>\n",
       "</div>"
      ],
      "text/plain": [
       "        stars  useful  funny  cool  \\\n",
       "0           1       6      1     0   \n",
       "1           5       0      0     0   \n",
       "2           5       3      0     0   \n",
       "3           5       0      0     0   \n",
       "4           1       7      0     0   \n",
       "...       ...     ...    ...   ...   \n",
       "334290      5       1      1     1   \n",
       "334291      3       1      0     1   \n",
       "334292      5       1      1     1   \n",
       "334293      1       3      3     1   \n",
       "334294      2       6      0     1   \n",
       "\n",
       "                                                     text                date  \n",
       "0       Total bill for this horrible service? Over $8G... 2013-05-07 04:34:36  \n",
       "1       I *adore* Travis at the Hard Rock's new Kelly ... 2017-01-14 21:30:33  \n",
       "2       I have to say that this office really has it t... 2016-11-09 20:09:03  \n",
       "3       Went in for a lunch. Steak sandwich was delici... 2018-01-09 20:56:38  \n",
       "4       Today was my second out of three sessions I ha... 2018-01-30 23:07:38  \n",
       "...                                                   ...                 ...  \n",
       "334290  I was very surprised by how flavorful the food... 2016-07-31 07:40:05  \n",
       "334291  The theater is nice, very comfortable chairs a... 2014-03-25 14:48:09  \n",
       "334292  My dog just loves it and so do I. I have broug... 2018-03-23 02:24:21  \n",
       "334293  Bug in food, followed by terrible handling of ... 2012-11-17 01:49:15  \n",
       "334294  I gotta give it to Tropicana, they are not goi... 2013-03-08 00:12:55  \n",
       "\n",
       "[334295 rows x 6 columns]"
      ]
     },
     "execution_count": 2,
     "metadata": {},
     "output_type": "execute_result"
    }
   ],
   "source": [
    "# Parse json file \n",
    "\n",
    "result = pd.read_json('../data/data_train.json')\n",
    "result"
   ]
  },
  {
   "cell_type": "code",
   "execution_count": 11,
   "metadata": {
    "collapsed": true
   },
   "outputs": [
    {
     "name": "stdout",
     "output_type": "stream",
     "text": [
      "number of one stars =  49031\n",
      "number of two stars =  27028\n",
      "number of three stars =  36987\n",
      "number of four stars =  73604\n",
      "number of five stars =  147645\n"
     ]
    },
    {
     "data": {
      "image/png": "[encoded data removed]",
      "text/plain": [
       "<Figure size 432x288 with 1 Axes>"
      ]
     },
     "metadata": {
      "needs_background": "light"
     },
     "output_type": "display_data"
    }
   ],
   "source": [
    "# Create a dataframe for each star rating\n",
    "\n",
    "groups = result.groupby('stars')\n",
    "\n",
    "star_dataframes = []\n",
    "for name,group in groups:\n",
    "    star_dataframes.append(group)\n",
    "   \n",
    "\n",
    "\n",
    "one_star = star_dataframes[0]\n",
    "print('number of one stars = ', len(one_star.index))\n",
    "\n",
    "two_star = star_dataframes[1]\n",
    "print('number of two stars = ', len(two_star.index))\n",
    "\n",
    "three_star = star_dataframes[2]\n",
    "print('number of three stars = ', len(three_star.index))\n",
    "\n",
    "four_star = star_dataframes[3]\n",
    "print('number of four stars = ', len(four_star.index))\n",
    "\n",
    "five_star = star_dataframes[4] \n",
    "print('number of five stars = ', len(five_star.index))\n",
    "\n",
    "\n",
    "# Creating a visual for distribution of data\n",
    "freq_data = []\n",
    "for x in range(len(one_star.index)):\n",
    "    freq_data.append(1)\n",
    "for x in range(len(two_star.index)):\n",
    "    freq_data.append(2)\n",
    "for x in range(len(three_star.index)):\n",
    "    freq_data.append(3)\n",
    "for x in range(len(four_star.index)):\n",
    "    freq_data.append(4)\n",
    "for x in range(len(five_star.index)):\n",
    "    freq_data.append(5)\n",
    "    \n",
    "num_bins = 5\n",
    "n, bins, patches = plt.hist(freq_data, num_bins, facecolor='blue', alpha=1)\n",
    "plt.show()"
   ]
  },
  {
   "cell_type": "code",
   "execution_count": null,
   "metadata": {
    "collapsed": true
   },
   "outputs": [],
   "source": [
    "# Demo feature engineering (class = 1 star, feature = useful)\n",
    "max = 0\n",
    "for index, row in one_star.iterrows():\n",
    "    if row['useful']>max:\n",
    "        max = row['useful']\n",
    " \n",
    "useful_frequency = []\n",
    "for x in range(max +1):\n",
    "    useful_frequency.append(0)\n",
    "for x in range(max +1):\n",
    "    total = 0\n",
    "    for index, row in one_star.iterrows():\n",
    "        if row['useful'] == x:\n",
    "            total += 1\n",
    "    useful_frequency[x] = total\n",
    "print(useful_frequency)\n",
    "\n",
    "#wrong histogram, need to tweak\n",
    "#num_bins = max+1\n",
    "#n, bins, patches = plt.hist(useful_frequency, num_bins, facecolor='blue', alpha=0.5)\n",
    "#plt.show()"
   ]
  },
  {
   "cell_type": "code",
   "execution_count": null,
   "metadata": {
    "collapsed": true
   },
   "outputs": [],
   "source": [
    "# Looking at 'useful' as a possible feature (class = 2 star)\n",
    "max = 0\n",
    "for index, row in two_star.iterrows():\n",
    "    if row['useful']>max:\n",
    "        max = row['useful']\n",
    " \n",
    "useful_frequency = []\n",
    "for x in range(max +1):\n",
    "    useful_frequency.append(0)\n",
    "for x in range(max +1):\n",
    "    total = 0\n",
    "    for index, row in one_star.iterrows():\n",
    "        if row['useful'] == x:\n",
    "            total += 1\n",
    "    useful_frequency[x] = total\n",
    "print(useful_frequency)"
   ]
  },
  {
   "cell_type": "code",
   "execution_count": 14,
   "metadata": {
    "collapsed": true
   },
   "outputs": [
    {
     "name": "stdout",
     "output_type": "stream",
     "text": [
      "[35525, 7621, 2868, 1271, 642, 353, 218, 145, 107, 57, 51, 39, 21, 21, 13, 15, 6, 8, 6, 4, 3, 2, 3, 5, 2, 4, 3, 3, 1, 5, 0, 1, 0, 1, 0, 0, 2, 0, 0, 0, 1, 0, 0, 2, 0, 0, 0, 0, 1, 0, 0]\n"
     ]
    }
   ],
   "source": [
    "# Looking at 'funny' as a possible feature (class = 2 star)\n",
    "max = 0\n",
    "for index, row in two_star.iterrows():\n",
    "    if row['funny']>max:\n",
    "        max = row['funny']\n",
    " \n",
    "useful_frequency = []\n",
    "for x in range(max +1):\n",
    "    useful_frequency.append(0)\n",
    "for x in range(max +1):\n",
    "    total = 0\n",
    "    for index, row in one_star.iterrows():\n",
    "        if row['funny'] == x:\n",
    "            total += 1\n",
    "    useful_frequency[x] = total\n",
    "print(useful_frequency)"
   ]
  },
  {
   "cell_type": "code",
   "execution_count": 42,
   "metadata": {
    "collapsed": true
   },
   "outputs": [],
   "source": [
    "# From geeksforgeeks for list intersection\n",
    "def intersection(lst1, lst2): \n",
    "    lst3 = [value for value in lst1 if value in lst2] \n",
    "    return lst3 "
   ]
  },
  {
   "cell_type": "code",
   "execution_count": 40,
   "metadata": {
    "collapsed": true
   },
   "outputs": [
    {
     "name": "stdout",
     "output_type": "stream",
     "text": [
      "1117\n"
     ]
    }
   ],
   "source": [
    "# Bag of words feature extraction - class = 2 stars\n",
    "reviews = []\n",
    "for index, row in two_star.iterrows():\n",
    "    reviews.append(row['text'])\n",
    "  \n",
    "reviews2 = []\n",
    "i = 0\n",
    "for index, row in two_star.iterrows():\n",
    "    i = i+1\n",
    "    if i <= 20:\n",
    "        reviews2.append(row['text'])\n",
    "#vectorizer = CountVectorizer()\n",
    "#X = vectorizer.fit_transform(reviews)\n",
    "#X.todense()\n",
    "#print(vectorizer.get_feature_names())\n",
    "#print(reviews)\n",
    "\n",
    "vectorizer = TfidfVectorizer()\n",
    "X = vectorizer.fit_transform(reviews2)\n",
    "print(len(vectorizer.get_feature_names()))"
   ]
  },
  {
   "cell_type": "code",
   "execution_count": 43,
   "metadata": {
    "collapsed": true
   },
   "outputs": [
    {
     "name": "stdout",
     "output_type": "stream",
     "text": [
      "557\n"
     ]
    }
   ],
   "source": [
    "# Bag of words feature extraction (more selective) - class = 2 stars\n",
    "tfidf_2 = TfidfVectorizer(min_df=2, max_df=0.5, ngram_range=(1,2))\n",
    "features_2 = tfidf_2.fit_transform(reviews2)\n",
    "print(len(tfidf_2.get_feature_names()))"
   ]
  },
  {
   "cell_type": "code",
   "execution_count": 45,
   "metadata": {
    "collapsed": true
   },
   "outputs": [
    {
     "name": "stdout",
     "output_type": "stream",
     "text": [
      "600\n"
     ]
    }
   ],
   "source": [
    "reviews1 = []\n",
    "i = 0\n",
    "for index, row in one_star.iterrows():\n",
    "    i = i+1\n",
    "    if i <= 20:\n",
    "        reviews1.append(row['text'])\n",
    "\n",
    "# Bag of words feature extraction (more selective) - class = 2 stars\n",
    "tfidf_1 = TfidfVectorizer(min_df=2, max_df=0.5, ngram_range=(1,2))\n",
    "features_1 = tfidf_1.fit_transform(reviews1)\n",
    "print(len(tfidf_1.get_feature_names()))"
   ]
  },
  {
   "cell_type": "code",
   "execution_count": 46,
   "metadata": {
    "collapsed": true
   },
   "outputs": [
    {
     "name": "stdout",
     "output_type": "stream",
     "text": [
      "['10', '15', 'about', 'actually', 'after', 'again', 'all', 'almost', 'also', 'am', 'an', 'and it', 'and the', 'and they', 'another', 'any', 'anything', 'are', 'around', 'as', 'as well', 'asked', 'at all', 'at least', 'at the', 'attention', 'back', 'back to', 'bad', 'bar', 'because', 'been', 'before', 'being', 'better', 'big', 'bring', 'busy', 'but the', 'by', 'came', 'can', 'card', 'care', 'come', 'could', 'couldn', 'counter', 'couple', 'customer', 'customer service', 'days', 'did', 'did not', 'didn', 'different', 'dinner', 'disappointed', 'do', 'don', 'down', 'else', 'even', 'every', 'experience', 'few', 'finally', 'fine', 'food', 'food and', 'food was', 'for my', 'for the', 'from', 'front', 'gave', 'get', 'getting', 'give', 'go', 'going', 'going on', 'going to', 'good', 'great', 'guy', 'had to', 'has', 'having', 'he', 'he was', 'her', 'here', 'his', 'horrible', 'how', 'however', 'if', 'if you', 'in the', 'in this', 'into', 'it was', 'just', 'know', 'last', 'least', 'left', 'let', 'like', 'line', 'long', 'looking', 'made', 'make', 'many', 'may', 'me', 'money', 'much', 'never', 'nice', 'night', 'no', 'nothing', 'of my', 'of the', 'off', 'ok', 'okay', 'on the', 'once', 'one', 'one of', 'only', 'or', 'order', 'other', 'our', 'out', 'out of', 'over', 'over the', 'paid', 'pay', 'people', 'phone', 'place', 'places', 'pretty', 'price', 'put', 'really', 'received', 'rest', 'review', 'said', 'same', 'seated', 'see', 'server', 'service was', 'several', 'she', 'she didn', 'she was', 'should', 'side', 'since', 'some', 'someone', 'special', 'staff', 'still', 'table', 'take', 'take our', 'tell', 'than', 'that the', 'that was', 'the food', 'the front', 'the other', 'the same', 'the service', 'their', 'them', 'then', 'there was', 'they are', 'they were', 'thing', 'things', 'think', 'this place', 'this was', 'three', 'time', 'to be', 'to get', 'to me', 'to pay', 'to the', 'told', 'told the', 'took', 'tried', 'under', 'until', 'up', 'up to', 'us', 've', 'very', 'walked', 'was very', 'wasn', 'way', 'we had', 'we walked', 'we were', 'well', 'went', 'were', 'what', 'when', 'which', 'while', 'who', 'why', 'will', 'with no', 'won', 'work', 'working', 'worth', 'would', 'years', 'yet', 'you', 'your']\n"
     ]
    }
   ],
   "source": [
    "print(intersection(tfidf_1.get_feature_names(), tfidf_2.get_feature_names()))"
   ]
  },
  {
   "cell_type": "code",
   "execution_count": null,
   "metadata": {
    "collapsed": true
   },
   "outputs": [],
   "source": [
    "reviews1 = []\n",
    "i = 0\n",
    "for index, row in one_star.iterrows():\n",
    "    i = i+1\n",
    "    if i <= 20:\n",
    "        reviews1.append(row['text'])\n",
    "\n",
    "# Bag of words feature extraction (more selective) - class = 2 stars\n",
    "tfidf_1 = TfidfVectorizer(min_df=2, max_df=0.5, ngram_range=(1,2))\n",
    "features_1 = tfidf_1.fit_transform(reviews1)\n",
    "print(len(tfidf_1.get_feature_names()))"
   ]
  }
 ],
 "metadata": {
  "kernelspec": {
   "display_name": "Python 3",
   "language": "python",
   "name": "python3"
  },
  "language_info": {
   "codemirror_mode": {
    "name": "ipython",
    "version": 3
   },
   "file_extension": ".py",
   "mimetype": "text/x-python",
   "name": "python",
   "nbconvert_exporter": "python",
   "pygments_lexer": "ipython3",
   "version": "3.7.1"
  }
 },
 "nbformat": 4,
 "nbformat_minor": 2
}
