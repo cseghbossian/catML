{
 "cells": [
  {
   "cell_type": "markdown",
   "metadata": {},
   "source": [
    "### Run the cells in order\n",
    "### Should get two files in the ../data folder\n",
    "### Namely ../data/corpus_labels.csv and ../data/corpus_feature_vectors.npz"
   ]
  },
  {
   "cell_type": "code",
   "execution_count": 53,
   "metadata": {},
   "outputs": [
    {
     "name": "stderr",
     "output_type": "stream",
     "text": [
      "[nltk_data] Downloading package punkt to\n",
      "[nltk_data]     C:\\Users\\Kalee\\AppData\\Roaming\\nltk_data...\n",
      "[nltk_data]   Package punkt is already up-to-date!\n"
     ]
    },
    {
     "data": {
      "text/plain": [
       "True"
      ]
     },
     "execution_count": 53,
     "metadata": {},
     "output_type": "execute_result"
    }
   ],
   "source": [
    "# Import all libraries here\n",
    "import pandas as pd\n",
    "from sklearn.feature_extraction.text import TfidfVectorizer\n",
    "from nltk.stem import PorterStemmer\n",
    "from nltk.tokenize import sent_tokenize, word_tokenize\n",
    "import nltk as nltk\n",
    "import numpy as np \n",
    "import time;\n",
    "\n",
    "nltk.download('punkt')\n",
    "# tutorial for data preprocessing: https://pythonspot.com/nltk-stemming/"
   ]
  },
  {
   "cell_type": "code",
   "execution_count": 54,
   "metadata": {},
   "outputs": [],
   "source": [
    "# Extract text from given train data and corresponding labels\n",
    "result = pd.read_json('../data/data_train.json')\n",
    "\n",
    "# Collecting all the text reviews into a list called corpus. For now, our features will be from the text using sklearn's \n",
    "# packages, could add the useful, funny attributes later to see if improves\n",
    "corpus = []\n",
    "labels = []\n",
    "for index, row in result.iterrows():\n",
    "    corpus.append(row['text'])\n",
    "    labels.append(row['stars'])\n",
    "#corpus"
   ]
  },
  {
   "cell_type": "code",
   "execution_count": 47,
   "metadata": {
    "collapsed": true
   },
   "outputs": [
    {
     "name": "stdout",
     "output_type": "stream",
     "text": [
      "Local current time : Tue Dec  3 11:23:15 2019\n",
      "Local current time : Tue Dec  3 13:51:25 2019\n"
     ]
    }
   ],
   "source": [
    "# Data preproessing (removing things like hunt, hunting, hunted -> hunt)\n",
    "# Stemming (hunt, hunting, hunted -> hunt) (try lemmazation later)\n",
    "\n",
    "print (\"Local current time :\", time.asctime( time.localtime(time.time()) )) # This part takes the longest (~30 min)\n",
    "ps = PorterStemmer()\n",
    "corpus_stemmed = []\n",
    "for text in corpus:\n",
    "    words = word_tokenize(text)\n",
    "    new_text = \"\"\n",
    "    for word in words:\n",
    "        stemmed = ps.stem(word)\n",
    "        new_text = new_text + \" \" + stemmed\n",
    "    corpus_stemmed.append(new_text)\n",
    "print (\"Local current time :\", time.asctime( time.localtime(time.time()) ))"
   ]
  },
  {
   "cell_type": "code",
   "execution_count": 49,
   "metadata": {
    "collapsed": true
   },
   "outputs": [
    {
     "name": "stdout",
     "output_type": "stream",
     "text": [
      "334295\n"
     ]
    }
   ],
   "source": [
    "row_list = []\n",
    "for each in labels: #each row consists of one column which is the stemmed text\n",
    "    text = []\n",
    "    text.append(each)\n",
    "    row_list.append(text)\n",
    "print(len(row_list))\n",
    "with open('../data/corpus_labels.csv', 'w', newline='', encoding='utf-8') as file:\n",
    "    writer = csv.writer(file)\n",
    "    writer.writerows(row_list)"
   ]
  },
  {
   "cell_type": "code",
   "execution_count": 50,
   "metadata": {},
   "outputs": [
    {
     "name": "stdout",
     "output_type": "stream",
     "text": [
      "Feature extraction: Local current time : Tue Dec  3 13:56:36 2019\n",
      "3800\n",
      "Ending feature extraction: Local current time : Tue Dec  3 13:57:42 2019\n"
     ]
    }
   ],
   "source": [
    "print (\"Feature extraction: Local current time :\", time.asctime( time.localtime(time.time()) ))\n",
    "# Default vectorizer, see how good model will be with these features\n",
    "vectorizer = TfidfVectorizer(min_df = 0.001, max_df = 0.5) #, ngram_range=(1,2)) # following tutorial: https://www.youtube.com/watch?v=7YacOe4XwhY\n",
    "vectorizer.fit_transform(corpus_stemmed)\n",
    "features = vectorizer.get_feature_names()\n",
    "print(len(features)) # should be 3800 features\n",
    "print (\"Ending feature extraction: Local current time :\", time.asctime( time.localtime(time.time()) ))"
   ]
  },
  {
   "cell_type": "code",
   "execution_count": 51,
   "metadata": {},
   "outputs": [
    {
     "name": "stdout",
     "output_type": "stream",
     "text": [
      "(334295, 3800)\n"
     ]
    }
   ],
   "source": [
    "feature_vector = vectorizer.transform(corpus_stemmed)\n",
    "print((feature_vector).shape) # should be (334295, 3800)"
   ]
  },
  {
   "cell_type": "code",
   "execution_count": 52,
   "metadata": {
    "collapsed": true
   },
   "outputs": [
    {
     "name": "stdout",
     "output_type": "stream",
     "text": [
      "<class 'scipy.sparse.csr.csr_matrix'>\n"
     ]
    }
   ],
   "source": [
    "import scipy.sparse\n",
    "print(type(feature_vector))\n",
    "scipy.sparse.save_npz('../data/corpus_feature_vectors.npz', feature_vector)"
   ]
  },
  {
   "cell_type": "markdown",
   "metadata": {},
   "source": [
    "# DO NOT RUN THE FOLLOWING CELL(S)\n"
   ]
  },
  {
   "cell_type": "code",
   "execution_count": 48,
   "metadata": {
    "collapsed": true
   },
   "outputs": [
    {
     "name": "stdout",
     "output_type": "stream",
     "text": [
      "334295\n"
     ]
    }
   ],
   "source": [
    "# need to print out the stemmed corpus since stemming is so computationally expensive\n",
    "# Took 10 minutes for 100,000 instances to be stemmed\n",
    "# import csv\n",
    "# row_list = []\n",
    "#for each in corpus_stemmed: #each row consists of one column which is the stemmed text\n",
    "#    text = []\n",
    "#    text.append(each)\n",
    "#    row_list.append(text)\n",
    "#print(len(row_list))\n",
    "#with open('stemmed_corpus.csv', 'w', newline='', encoding='utf-8') as file:\n",
    "#    writer = csv.writer(file)\n",
    "#    writer.writerows(row_list)"
   ]
  }
 ],
 "metadata": {
  "kernelspec": {
   "display_name": "Python 3",
   "language": "python",
   "name": "python3"
  },
  "language_info": {
   "codemirror_mode": {
    "name": "ipython",
    "version": 3
   },
   "file_extension": ".py",
   "mimetype": "text/x-python",
   "name": "python",
   "nbconvert_exporter": "python",
   "pygments_lexer": "ipython3",
   "version": "3.7.1"
  }
 },
 "nbformat": 4,
 "nbformat_minor": 2
}
