{
 "cells": [
  {
   "cell_type": "code",
   "execution_count": 53,
   "metadata": {},
   "outputs": [
    {
     "name": "stderr",
     "output_type": "stream",
     "text": [
      "[nltk_data] Downloading package punkt to\n",
      "[nltk_data]     C:\\Users\\Kalee\\AppData\\Roaming\\nltk_data...\n",
      "[nltk_data]   Package punkt is already up-to-date!\n"
     ]
    },
    {
     "data": {
      "text/plain": [
       "True"
      ]
     },
     "execution_count": 53,
     "metadata": {},
     "output_type": "execute_result"
    }
   ],
   "source": [
    "# Import all libraries here\n",
    "import pandas as pd\n",
    "from sklearn.feature_extraction.text import TfidfVectorizer\n",
    "from nltk.stem import PorterStemmer\n",
    "from nltk.tokenize import sent_tokenize, word_tokenize\n",
    "import nltk as nltk\n",
    "import numpy as np \n",
    "import time;\n",
    "nltk.download('punkt')"
   ]
  },
  {
   "cell_type": "code",
   "execution_count": 54,
   "metadata": {},
   "outputs": [],
   "source": [
    "# Extract text from given train data and corresponding labels\n",
    "result = pd.read_json('../data/data_train.json')\n",
    "\n",
    "# Collecting all the text reviews into a list called corpus.\n",
    "corpus = []\n",
    "labels = []\n",
    "for index, row in result.iterrows():\n",
    "    corpus.append(row['text'])\n",
    "    labels.append(row['stars'])"
   ]
  },
  {
   "cell_type": "code",
   "execution_count": 47,
   "metadata": {
    "collapsed": true
   },
   "outputs": [
    {
     "name": "stdout",
     "output_type": "stream",
     "text": [
      "Local current time : Tue Dec  3 11:23:15 2019\n",
      "Local current time : Tue Dec  3 13:51:25 2019\n"
     ]
    }
   ],
   "source": [
    "# Data preproessing (removing things like hunt, hunting, hunted -> hunt)\n",
    "# Stemming (hunt, hunting, hunted -> hunt) (try lemmazation later)\n",
    "\n",
    "print (\"Local current time :\", time.asctime( time.localtime(time.time()) )) # This part takes the longest (~30 min)\n",
    "ps = PorterStemmer()\n",
    "corpus_stemmed = []\n",
    "for text in corpus:\n",
    "    words = word_tokenize(text)\n",
    "    new_text = \"\"\n",
    "    for word in words:\n",
    "        stemmed = ps.stem(word)\n",
    "        new_text = new_text + \" \" + stemmed\n",
    "    corpus_stemmed.append(new_text)\n",
    "print (\"Local current time :\", time.asctime( time.localtime(time.time()) ))"
   ]
  },
  {
   "cell_type": "code",
   "execution_count": 49,
   "metadata": {
    "collapsed": true
   },
   "outputs": [
    {
     "name": "stdout",
     "output_type": "stream",
     "text": [
      "334295\n"
     ]
    }
   ],
   "source": [
    "# Writing labels to a file\n",
    "row_list = []\n",
    "for each in labels: #each row consists of one column which is the stemmed text\n",
    "    text = []\n",
    "    text.append(each)\n",
    "    row_list.append(text)\n",
    "print(len(row_list))\n",
    "with open('../data/corpus_labels.csv', 'w', newline='', encoding='utf-8') as file:\n",
    "    writer = csv.writer(file)\n",
    "    writer.writerows(row_list)"
   ]
  },
  {
   "cell_type": "code",
   "execution_count": 50,
   "metadata": {},
   "outputs": [
    {
     "name": "stdout",
     "output_type": "stream",
     "text": [
      "Feature extraction: Local current time : Tue Dec  3 13:56:36 2019\n",
      "3800\n",
      "Ending feature extraction: Local current time : Tue Dec  3 13:57:42 2019\n"
     ]
    }
   ],
   "source": [
    "# Feature extraction using TfidfVectorizer\n",
    "# To make the extracted features as minimal as possible, but still retain usefulness, hyperparameters have been tuned\n",
    "\n",
    "print (\"Feature extraction: Local current time :\", time.asctime( time.localtime(time.time()) ))\n",
    "vectorizer = TfidfVectorizer(min_df = 0.001, max_df = 0.5)\n",
    "vectorizer.fit_transform(corpus_stemmed)\n",
    "features = vectorizer.get_feature_names()\n",
    "print(len(features)) # should be 3800 features\n",
    "print (\"Ending feature extraction: Local current time :\", time.asctime( time.localtime(time.time()) ))"
   ]
  },
  {
   "cell_type": "code",
   "execution_count": 51,
   "metadata": {},
   "outputs": [
    {
     "name": "stdout",
     "output_type": "stream",
     "text": [
      "(334295, 3800)\n"
     ]
    }
   ],
   "source": [
    "# Using the features extracted, we transform our training data into training instances represented by feature vectors\n",
    "feature_vector = vectorizer.transform(corpus_stemmed)\n",
    "\n",
    "import scipy.sparse\n",
    "print(type(feature_vector))\n",
    "scipy.sparse.save_npz('../data/corpus_feature_vectors.npz', feature_vector)"
   ]
  }
 ],
 "metadata": {
  "kernelspec": {
   "display_name": "Python 3",
   "language": "python",
   "name": "python3"
  },
  "language_info": {
   "codemirror_mode": {
    "name": "ipython",
    "version": 3
   },
   "file_extension": ".py",
   "mimetype": "text/x-python",
   "name": "python",
   "nbconvert_exporter": "python",
   "pygments_lexer": "ipython3",
   "version": "3.7.1"
  }
 },
 "nbformat": 4,
 "nbformat_minor": 2
}
